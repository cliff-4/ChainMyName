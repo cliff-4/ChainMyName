{
 "cells": [
  {
   "cell_type": "code",
   "execution_count": null,
   "metadata": {},
   "outputs": [],
   "source": [
    "prompt = \"\"\"Answer the question based on the context below. If the\n",
    "question cannot be answered using the information provided answer\n",
    "with \"I don't know\".\n",
    "\n",
    "Context: Large Language Models (LLMs) are the latest models used in NLP.\n",
    "Their superior performance over smaller models has made them incredibly\n",
    "useful for developers building NLP enabled applications. These models\n",
    "can be accessed via Hugging Face's `transformers` library, via OpenAI\n",
    "using the `openai` library, and via Cohere using the `cohere` library.\n",
    "\n",
    "Question: Which libraries and model providers offer LLMs?\n",
    "\n",
    "Answer: \"\"\""
   ]
  },
  {
   "cell_type": "code",
   "execution_count": 4,
   "metadata": {},
   "outputs": [],
   "source": [
    "import local_tokens\n",
    "\n",
    "oai_key = local_tokens.api_keys()[\"OAI\"][\"CMN\"]"
   ]
  },
  {
   "cell_type": "code",
   "execution_count": 5,
   "metadata": {},
   "outputs": [],
   "source": [
    "from langchain.llms import OpenAI\n",
    "\n",
    "# initialize the models\n",
    "openai = OpenAI(\n",
    "    model_name=\"text-davinci-003\",\n",
    "    openai_api_key=oai_key\n",
    ")"
   ]
  },
  {
   "cell_type": "code",
   "execution_count": null,
   "metadata": {},
   "outputs": [
    {
     "name": "stdout",
     "output_type": "stream",
     "text": [
      " Hugging Face's `transformers` library, OpenAI using the `openai` library, and Cohere using the `cohere` library.\n"
     ]
    }
   ],
   "source": [
    "print(openai(prompt))"
   ]
  },
  {
   "cell_type": "code",
   "execution_count": 13,
   "metadata": {},
   "outputs": [],
   "source": [
    "from langchain import PromptTemplate\n",
    "\n",
    "with open(\"prompt_template.txt\", \"r\") as f:\n",
    "    template = f.read()\n",
    "\n",
    "with open(\"sample_blogs/how_to_make_a_directory.txt\", \"r\") as f:\n",
    "    blog_txt = f.read()\n",
    "\n",
    "prompt_template = PromptTemplate(\n",
    "    input_variables=[\"blog_txt\", \"num_ques\"],\n",
    "    template=template\n",
    ")"
   ]
  },
  {
   "cell_type": "code",
   "execution_count": 16,
   "metadata": {},
   "outputs": [
    {
     "name": "stdout",
     "output_type": "stream",
     "text": [
      "Answer the question based on the context below. If the question cannot be answered using the information provided, answer with \"I don't know\".\n",
      "\n",
      "Context: Creating directories (mkdir command)\n",
      "Last Updated: 2023-03-24\n",
      "Use the mkdir command to create one or more directories specified by the Directory parameter.\n",
      "\n",
      "Each new directory contains the standard entries dot (.) and dot dot (..). You can specify the permissions for the new directories with the -m Mode flag.\n",
      "\n",
      "When you create a directory, it is created within the current, or working, directory unless you specify an absolute path name to another location in the file system.\n",
      "\n",
      "The following are examples of how to use the mkdir command:\n",
      "To create a new directory called Test in the current working directory with default permissions, type the following:\n",
      "mkdir Test\n",
      "\n",
      "To create a directory called Test with rwxr-xr-x permissions in a previously created /home/demo/sub1 directory, type the following:\n",
      "mkdir -m 755 /home/demo/sub1/Test\n",
      "\n",
      "To create a directory called Test with default permissions in the /home/demo/sub2 directory, type the following:\n",
      "mkdir -p /home/demo/sub2/Test\n",
      "\n",
      "The -p flag creates the /home, /home/demo, and /home/demo/sub2 directories if they do not already exist.\n",
      "See the mkdir command in the Commands Reference, Volume 3 for the complete syntax.\n",
      "\n",
      "\n",
      "\n",
      "source: https://www.ibm.com/docs/en/aix/7.1?topic=directories-creating-mkdir-command\n",
      "\n",
      "Query: Generate 1 coding and/or logical questions based on the text.\n",
      "\n",
      "Answer: \n"
     ]
    }
   ],
   "source": [
    "prompt = prompt_template.format(\n",
    "        blog_txt = blog_txt,\n",
    "        num_ques = 1\n",
    "    )\n",
    "\n",
    "print(prompt)"
   ]
  },
  {
   "cell_type": "code",
   "execution_count": 17,
   "metadata": {},
   "outputs": [
    {
     "name": "stdout",
     "output_type": "stream",
     "text": [
      "\n",
      "What is the purpose of the -m flag when creating a directory with the mkdir command?\n"
     ]
    }
   ],
   "source": [
    "print(openai(prompt))"
   ]
  },
  {
   "cell_type": "code",
   "execution_count": null,
   "metadata": {},
   "outputs": [],
   "source": []
  }
 ],
 "metadata": {
  "kernelspec": {
   "display_name": "LC",
   "language": "python",
   "name": "python3"
  },
  "language_info": {
   "codemirror_mode": {
    "name": "ipython",
    "version": 3
   },
   "file_extension": ".py",
   "mimetype": "text/x-python",
   "name": "python",
   "nbconvert_exporter": "python",
   "pygments_lexer": "ipython3",
   "version": "3.11.5"
  }
 },
 "nbformat": 4,
 "nbformat_minor": 2
}
