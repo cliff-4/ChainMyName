{
 "cells": [
  {
   "cell_type": "markdown",
   "metadata": {},
   "source": [
    "Whenever you add a new field to db or whatever, just\n",
    "1. close vscode\n",
    "2. Take a walk\n",
    "3. delete `instance/test.db`\n",
    "4. open vscode\n",
    "5. run this notebook\n",
    "6. rerun app"
   ]
  },
  {
   "cell_type": "code",
   "execution_count": 1,
   "metadata": {},
   "outputs": [],
   "source": [
    "import app"
   ]
  },
  {
   "cell_type": "code",
   "execution_count": 2,
   "metadata": {},
   "outputs": [],
   "source": [
    "with app.app.app_context():\n",
    "\tapp.db.create_all()"
   ]
  },
  {
   "cell_type": "code",
   "execution_count": null,
   "metadata": {},
   "outputs": [],
   "source": []
  }
 ],
 "metadata": {
  "kernelspec": {
   "display_name": "LC",
   "language": "python",
   "name": "python3"
  },
  "language_info": {
   "codemirror_mode": {
    "name": "ipython",
    "version": 3
   },
   "file_extension": ".py",
   "mimetype": "text/x-python",
   "name": "python",
   "nbconvert_exporter": "python",
   "pygments_lexer": "ipython3",
   "version": "3.11.5"
  }
 },
 "nbformat": 4,
 "nbformat_minor": 2
}
